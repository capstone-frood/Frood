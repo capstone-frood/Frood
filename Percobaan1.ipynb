{
 "cells": [
  {
   "cell_type": "code",
   "execution_count": 1,
   "id": "01f0bc8e",
   "metadata": {},
   "outputs": [],
   "source": [
    "import tensorflow as tf\n",
    "from tensorflow.keras.preprocessing.image import ImageDataGenerator\n",
    "from PIL import Image\n",
    "import matplotlib.pyplot as plt\n",
    "import os\n",
    "from tensorflow.keras import layers\n",
    "from tensorflow.keras import regularizers\n",
    "from tensorflow.keras.regularizers import L2 "
   ]
  },
  {
   "cell_type": "code",
   "execution_count": 2,
   "id": "4462e828",
   "metadata": {},
   "outputs": [
    {
     "name": "stdout",
     "output_type": "stream",
     "text": [
      "Requirement already satisfied: tensorflow_datasets in ./opt/anaconda3/lib/python3.9/site-packages (4.5.2)\n",
      "Requirement already satisfied: protobuf>=3.12.2 in ./opt/anaconda3/lib/python3.9/site-packages (from tensorflow_datasets) (3.20.1)\n",
      "Requirement already satisfied: tqdm in ./opt/anaconda3/lib/python3.9/site-packages (from tensorflow_datasets) (4.62.3)\n",
      "Requirement already satisfied: six in ./opt/anaconda3/lib/python3.9/site-packages (from tensorflow_datasets) (1.16.0)\n",
      "Requirement already satisfied: absl-py in ./opt/anaconda3/lib/python3.9/site-packages (from tensorflow_datasets) (1.0.0)\n",
      "Requirement already satisfied: termcolor in ./opt/anaconda3/lib/python3.9/site-packages (from tensorflow_datasets) (1.1.0)\n",
      "Requirement already satisfied: requests>=2.19.0 in ./opt/anaconda3/lib/python3.9/site-packages (from tensorflow_datasets) (2.26.0)\n",
      "Requirement already satisfied: tensorflow-metadata in ./opt/anaconda3/lib/python3.9/site-packages (from tensorflow_datasets) (1.8.0)\n",
      "Requirement already satisfied: numpy in ./opt/anaconda3/lib/python3.9/site-packages (from tensorflow_datasets) (1.20.3)\n",
      "Requirement already satisfied: dill in ./opt/anaconda3/lib/python3.9/site-packages (from tensorflow_datasets) (0.3.5.1)\n",
      "Requirement already satisfied: promise in ./opt/anaconda3/lib/python3.9/site-packages (from tensorflow_datasets) (2.3)\n",
      "Requirement already satisfied: urllib3<1.27,>=1.21.1 in ./opt/anaconda3/lib/python3.9/site-packages (from requests>=2.19.0->tensorflow_datasets) (1.26.7)\n",
      "Requirement already satisfied: idna<4,>=2.5 in ./opt/anaconda3/lib/python3.9/site-packages (from requests>=2.19.0->tensorflow_datasets) (3.2)\n",
      "Requirement already satisfied: charset-normalizer~=2.0.0 in ./opt/anaconda3/lib/python3.9/site-packages (from requests>=2.19.0->tensorflow_datasets) (2.0.4)\n",
      "Requirement already satisfied: certifi>=2017.4.17 in ./opt/anaconda3/lib/python3.9/site-packages (from requests>=2.19.0->tensorflow_datasets) (2021.10.8)\n",
      "Requirement already satisfied: googleapis-common-protos<2,>=1.52.0 in ./opt/anaconda3/lib/python3.9/site-packages (from tensorflow-metadata->tensorflow_datasets) (1.56.2)\n",
      "Note: you may need to restart the kernel to use updated packages.\n"
     ]
    }
   ],
   "source": [
    "pip install tensorflow_datasets"
   ]
  },
  {
   "cell_type": "code",
   "execution_count": 3,
   "id": "af591561",
   "metadata": {},
   "outputs": [
    {
     "name": "stdout",
     "output_type": "stream",
     "text": [
      "Found 28459 images belonging to 22 classes.\n",
      "Found 7111 images belonging to 22 classes.\n"
     ]
    }
   ],
   "source": [
    "src = '/Users/user/Downloads/Dataset'\n",
    "\n",
    "train_datagen = ImageDataGenerator(rescale=1./255,\n",
    "                                   validation_split=0.2)\n",
    "\n",
    "train_generator = train_datagen.flow_from_directory(src,\n",
    "                                                    target_size=(224, 224),\n",
    "                                                    batch_size=100,\n",
    "                                                    class_mode='categorical',\n",
    "                                                    subset='training')\n",
    "\n",
    "validation_generator = train_datagen.flow_from_directory(src,\n",
    "                                                         target_size=(224, 224),\n",
    "                                                         batch_size=100,\n",
    "                                                         class_mode='categorical',\n",
    "                                                         subset='validation')\n"
   ]
  },
  {
   "cell_type": "code",
   "execution_count": 4,
   "id": "71e5f357",
   "metadata": {},
   "outputs": [
    {
     "name": "stderr",
     "output_type": "stream",
     "text": [
      "2022-06-01 13:54:00.807338: I tensorflow/core/platform/cpu_feature_guard.cc:193] This TensorFlow binary is optimized with oneAPI Deep Neural Network Library (oneDNN) to use the following CPU instructions in performance-critical operations:  AVX2 FMA\n",
      "To enable them in other operations, rebuild TensorFlow with the appropriate compiler flags.\n"
     ]
    }
   ],
   "source": [
    "\n",
    "model = tf.keras.models.Sequential([\n",
    "    tf.keras.layers.Conv2D(32, (3,3), activation='relu', input_shape=(224, 224, 3)),\n",
    "    tf.keras.layers.MaxPooling2D(2,2),\n",
    "    tf.keras.layers.Dropout(0.2),\n",
    "    tf.keras.layers.Conv2D(64, (3,3), activation='relu'),\n",
    "    tf.keras.layers.MaxPooling2D(2,2),\n",
    "    tf.keras.layers.Dropout(0.2),\n",
    "    tf.keras.layers.Conv2D(128, (3,3), activation='relu'),\n",
    "    tf.keras.layers.MaxPooling2D(2,2),\n",
    "    tf.keras.layers.Dropout(0.2),\n",
    "    tf.keras.layers.Flatten(), \n",
    "    tf.keras.layers.Dense(256, activation='relu',kernel_regularizer=L2(0.001)),\n",
    "    tf.keras.layers.Dropout(0.2),\n",
    "    tf.keras.layers.Dense(128, activation='relu',kernel_regularizer=L2(0.001)),\n",
    "    tf.keras.layers.Dropout(0.2),\n",
    "    tf.keras.layers.Dense(22, activation='softmax')\n",
    "])\n"
   ]
  },
  {
   "cell_type": "code",
   "execution_count": 5,
   "id": "d89675dc",
   "metadata": {},
   "outputs": [
    {
     "name": "stdout",
     "output_type": "stream",
     "text": [
      "Model: \"sequential\"\n",
      "_________________________________________________________________\n",
      " Layer (type)                Output Shape              Param #   \n",
      "=================================================================\n",
      " conv2d (Conv2D)             (None, 222, 222, 32)      896       \n",
      "                                                                 \n",
      " max_pooling2d (MaxPooling2D  (None, 111, 111, 32)     0         \n",
      " )                                                               \n",
      "                                                                 \n",
      " dropout (Dropout)           (None, 111, 111, 32)      0         \n",
      "                                                                 \n",
      " conv2d_1 (Conv2D)           (None, 109, 109, 64)      18496     \n",
      "                                                                 \n",
      " max_pooling2d_1 (MaxPooling  (None, 54, 54, 64)       0         \n",
      " 2D)                                                             \n",
      "                                                                 \n",
      " dropout_1 (Dropout)         (None, 54, 54, 64)        0         \n",
      "                                                                 \n",
      " conv2d_2 (Conv2D)           (None, 52, 52, 128)       73856     \n",
      "                                                                 \n",
      " max_pooling2d_2 (MaxPooling  (None, 26, 26, 128)      0         \n",
      " 2D)                                                             \n",
      "                                                                 \n",
      " dropout_2 (Dropout)         (None, 26, 26, 128)       0         \n",
      "                                                                 \n",
      " flatten (Flatten)           (None, 86528)             0         \n",
      "                                                                 \n",
      " dense (Dense)               (None, 256)               22151424  \n",
      "                                                                 \n",
      " dropout_3 (Dropout)         (None, 256)               0         \n",
      "                                                                 \n",
      " dense_1 (Dense)             (None, 128)               32896     \n",
      "                                                                 \n",
      " dropout_4 (Dropout)         (None, 128)               0         \n",
      "                                                                 \n",
      " dense_2 (Dense)             (None, 22)                2838      \n",
      "                                                                 \n",
      "=================================================================\n",
      "Total params: 22,280,406\n",
      "Trainable params: 22,280,406\n",
      "Non-trainable params: 0\n",
      "_________________________________________________________________\n"
     ]
    }
   ],
   "source": [
    "model.compile(optimizer = tf.keras.optimizers.RMSprop(learning_rate=0.001),\n",
    "              loss='categorical_crossentropy',\n",
    "              metrics=['accuracy'])\n",
    "\n",
    "model.summary()"
   ]
  },
  {
   "cell_type": "code",
   "execution_count": 6,
   "id": "aade156f",
   "metadata": {},
   "outputs": [
    {
     "name": "stdout",
     "output_type": "stream",
     "text": [
      "Epoch 1/5\n",
      "285/285 [==============================] - 1319s 5s/step - loss: 2.3487 - accuracy: 0.3805 - val_loss: 1.5738 - val_accuracy: 0.5521\n",
      "Epoch 2/5\n",
      "285/285 [==============================] - 1423s 5s/step - loss: 1.2396 - accuracy: 0.6742 - val_loss: 1.4278 - val_accuracy: 0.6224\n",
      "Epoch 3/5\n",
      "285/285 [==============================] - 1297s 5s/step - loss: 1.0390 - accuracy: 0.7459 - val_loss: 1.7917 - val_accuracy: 0.4908\n",
      "Epoch 4/5\n",
      "285/285 [==============================] - 1297s 5s/step - loss: 0.9495 - accuracy: 0.7813 - val_loss: 1.2005 - val_accuracy: 0.6856\n",
      "Epoch 5/5\n",
      "285/285 [==============================] - 1297s 5s/step - loss: 0.8486 - accuracy: 0.8102 - val_loss: 1.4462 - val_accuracy: 0.6154\n"
     ]
    }
   ],
   "source": [
    "history = model.fit(train_generator,\n",
    "                    epochs = 5, \n",
    "                    verbose = 1, \n",
    "                    validation_data = validation_generator)"
   ]
  },
  {
   "cell_type": "code",
   "execution_count": 7,
   "id": "881286ac",
   "metadata": {},
   "outputs": [
    {
     "data": {
      "image/png": "[encoded data removed]",
      "text/plain": [
       "<Figure size 432x288 with 1 Axes>"
      ]
     },
     "metadata": {
      "needs_background": "light"
     },
     "output_type": "display_data"
    }
   ],
   "source": [
    "def plot_graph(history, string):\n",
    "    plt.plot(history.history[string])\n",
    "    plt.plot(history.history['val_'+string])\n",
    "    plt.xlabel('epochs')\n",
    "    plt.ylabel(string)\n",
    "    plt.legend([string, 'val_'+string])\n",
    "    plt.show\n",
    "\n",
    "plot_graph(history, 'accuracy')\n",
    "plot_graph(history, 'loss')"
   ]
  },
  {
   "cell_type": "code",
   "execution_count": 11,
   "id": "29246a36",
   "metadata": {},
   "outputs": [
    {
     "name": "stdout",
     "output_type": "stream",
     "text": [
      "Epoch 5/10\n",
      "285/285 [==============================] - 1448s 5s/step - loss: 0.7915 - accuracy: 0.8282 - val_loss: 1.1262 - val_accuracy: 0.7244\n",
      "Epoch 6/10\n",
      "285/285 [==============================] - 1653s 6s/step - loss: 0.7439 - accuracy: 0.8463 - val_loss: 1.1615 - val_accuracy: 0.7255\n",
      "Epoch 7/10\n",
      "285/285 [==============================] - 1585s 6s/step - loss: 0.7178 - accuracy: 0.8572 - val_loss: 1.2131 - val_accuracy: 0.7353\n",
      "Epoch 8/10\n",
      "285/285 [==============================] - 1633s 6s/step - loss: 0.6799 - accuracy: 0.8657 - val_loss: 1.1203 - val_accuracy: 0.7517\n",
      "Epoch 9/10\n",
      "285/285 [==============================] - 1606s 6s/step - loss: 0.6546 - accuracy: 0.8750 - val_loss: 0.9812 - val_accuracy: 0.7682\n",
      "Epoch 10/10\n",
      "285/285 [==============================] - 1345s 5s/step - loss: 0.6326 - accuracy: 0.8825 - val_loss: 1.1110 - val_accuracy: 0.7369\n"
     ]
    }
   ],
   "source": [
    "history_2 = model.fit(train_generator, \n",
    "                      epochs = 10, \n",
    "                      initial_epoch =history.epoch[-1], \n",
    "                      validation_data= validation_generator)"
   ]
  },
  {
   "cell_type": "code",
   "execution_count": 12,
   "id": "48e525c6",
   "metadata": {},
   "outputs": [
    {
     "data": {
      "image/png": "[encoded data removed]",
      "text/plain": [
       "<Figure size 432x288 with 1 Axes>"
      ]
     },
     "metadata": {
      "needs_background": "light"
     },
     "output_type": "display_data"
    }
   ],
   "source": [
    "def plot_graph(history, string):\n",
    "    plt.plot(history.history[string])\n",
    "    plt.plot(history.history['val_'+string])\n",
    "    plt.xlabel('epochs')\n",
    "    plt.ylabel(string)\n",
    "    plt.legend([string, 'val_'+string])\n",
    "    plt.show\n",
    "\n",
    "plot_graph(history, 'accuracy')\n",
    "plot_graph(history, 'loss')"
   ]
  },
  {
   "cell_type": "code",
   "execution_count": null,
   "id": "6330daff",
   "metadata": {},
   "outputs": [],
   "source": []
  }
 ],
 "metadata": {
  "kernelspec": {
   "display_name": "Python 3 (ipykernel)",
   "language": "python",
   "name": "python3"
  },
  "language_info": {
   "codemirror_mode": {
    "name": "ipython",
    "version": 3
   },
   "file_extension": ".py",
   "mimetype": "text/x-python",
   "name": "python",
   "nbconvert_exporter": "python",
   "pygments_lexer": "ipython3",
   "version": "3.9.7"
  }
 },
 "nbformat": 4,
 "nbformat_minor": 5
}
